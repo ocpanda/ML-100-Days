{
 "cells": [
  {
   "cell_type": "code",
   "execution_count": 1,
   "metadata": {},
   "outputs": [
    {
     "ename": "SyntaxError",
     "evalue": "invalid syntax (<ipython-input-1-6bbd1ecbe005>, line 1)",
     "output_type": "error",
     "traceback": [
      "\u001b[0;36m  File \u001b[0;32m\"<ipython-input-1-6bbd1ecbe005>\"\u001b[0;36m, line \u001b[0;32m1\u001b[0m\n\u001b[0;31m    Hw 1: 請上 Kaggle, 在 Competitions 或 Dataset 中找一組競賽或資料並寫下：\u001b[0m\n\u001b[0m       ^\u001b[0m\n\u001b[0;31mSyntaxError\u001b[0m\u001b[0;31m:\u001b[0m invalid syntax\n"
     ]
    }
   ],
   "source": [
    "Hw 1：請上 Kaggle, 在 Competitions 或 Dataset 中找一組競賽或資料並寫下：\n",
    "    Dateset網址： Global Terrorism Database   https://www.kaggle.com/START-UMD/gtd\n",
    "    \n",
    "    1. 你選的這組資料為何重要？\n",
    "        如果與歷史事件或新聞相對照，或許可以知道在過去歷史中，恐怖份子會因為什麼情況去進行攻擊。\n",
    "        根據這些歷史資料，加上如果可以對網路上的訊息或是新聞進行分析模型的預測，說不定可以提前進行預防減低傷害的發生。\n",
    "        \n",
    "    2. 資料從何而來 (tips: 譬如提供者是誰、以什麼方式蒐集)？\n",
    "        由一家美國媒體START所提供，根據各國的媒體資料所形成的資料庫GTD，是目前世界上關於恐怖攻擊最全面的公開資料庫，\n",
    "        審查了在1998年到2017年間的100多萬篇新聞文章和 25000個新聞來源蒐集而成的資料庫。\n",
    "        \n",
    "    3. 蒐集而來的資料型態為何？\n",
    "        是屬於結構化資料，最近的資料有一百多個欄位，包含有數值、發生時間、新聞報導內容、座標等資訊\n",
    "        \n",
    "    4. 這組資料想解決的問題如何評估？\n",
    "        看起來可以用ROC"
   ]
  },
  {
   "cell_type": "code",
   "execution_count": null,
   "metadata": {},
   "outputs": [],
   "source": [
    "Hw 2：想像你經營一個自由載客車隊，你希望能透過數據分析以提升業績，請你思考並描述你如何規劃整體的分析/解決方案：\n",
    "\n",
    "    1. 核心問題為何 (tips：如何定義 「提升業績 & 你的假設」)\n",
    "        整體載客數量及出車次數的提升，顧客回頭使用率提升\n",
    "    2. 資料從何而來 (tips：哪些資料可能會對你想問的問題產生影響 & 資料如何蒐集)\n",
    "        油價降低、大眾交通工具更方便及價錢減低、顧客乘車體驗、聯絡方便性、價格\n",
    "    3. 蒐集而來的資料型態為何\n",
    "        結構化資料：數值及離散化的資料\n",
    "    4. 你要回答的問題，其如何評估 (tips：你的假設如何驗證)\n",
    "        可以利用回歸性的數學模型進行驗證"
   ]
  }
 ],
 "metadata": {
  "kernelspec": {
   "display_name": "Python 3",
   "language": "python",
   "name": "python3"
  },
  "language_info": {
   "codemirror_mode": {
    "name": "ipython",
    "version": 3
   },
   "file_extension": ".py",
   "mimetype": "text/x-python",
   "name": "python",
   "nbconvert_exporter": "python",
   "pygments_lexer": "ipython3",
   "version": "3.7.0"
  }
 },
 "nbformat": 4,
 "nbformat_minor": 2
}
